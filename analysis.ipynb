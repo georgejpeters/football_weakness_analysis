{
 "cells": [
  {
   "cell_type": "code",
   "execution_count": 1,
   "metadata": {
    "collapsed": true,
    "ExecuteTime": {
     "end_time": "2024-01-10T17:45:25.934507200Z",
     "start_time": "2024-01-10T17:45:24.399326500Z"
    }
   },
   "outputs": [],
   "source": [
    "import pandas as pd\n",
    "import numpy as np\n",
    "from sklearn.preprocessing import MinMaxScaler\n",
    "\n",
    "pd.set_option('display.max_columns', None)"
   ]
  },
  {
   "cell_type": "code",
   "execution_count": 2,
   "outputs": [
    {
     "name": "stdout",
     "output_type": "stream",
     "text": [
      "     AerWon  AssistedShots    Blocks        GA        GS  GoalsPerShot  \\\n",
      "0  0.113941      -0.477767 -0.051672  0.528571 -0.683983     -0.477143   \n",
      "\n",
      "   PassesPA     ProgP  Recoveries       SoT Team  \n",
      "0 -0.315018 -0.436022   -0.460987 -0.590977  NaN  \n"
     ]
    }
   ],
   "source": [
    "# Squad Weakness Analysis\n",
    "stats = pd.read_csv(\"Datasets/Championship Goal Team Stats.csv\", index_col=0)\n",
    "scaled_stats = stats.copy()\n",
    "numeric_stats = scaled_stats.select_dtypes(include=np.number)\n",
    "scaler = MinMaxScaler()\n",
    "# normalise data data\n",
    "scaled_stats[numeric_stats.columns] = scaler.fit_transform(numeric_stats)\n",
    "average_stats = scaled_stats[scaled_stats[\"Team\"] != \"Wigan\"].mean(numeric_only=True)\n",
    "stat_difference = scaled_stats[scaled_stats[\"Team\"] == \"Wigan\"] - average_stats\n",
    "# Analysing this stat difference shows that it seems that Wigan's attack last season was the largest issue,\n",
    "# the delta is larger for GS and they seem strong enough on Aerials won and Blocks. Their biggest issue certainly\n",
    "# seems to be in shots on target assisted shots and goals per shot.\n",
    "print(stat_difference)"
   ],
   "metadata": {
    "collapsed": false,
    "ExecuteTime": {
     "end_time": "2024-01-10T17:45:27.044743600Z",
     "start_time": "2024-01-10T17:45:26.983600800Z"
    }
   }
  },
  {
   "cell_type": "code",
   "execution_count": 3,
   "outputs": [
    {
     "name": "stdout",
     "output_type": "stream",
     "text": [
      "Best Creative Players\n",
      "                            Team       League  Age  Goals  Assists  ProgP  \\\n",
      "Name                                                                        \n",
      "Marvin Wanitzek       Karlsruher  Bundesliga2   29     10       12    237   \n",
      "Leart Paqarada         St. Pauli  Bundesliga2   27      3       11    221   \n",
      "Diego Valdés             América       LigaMX   28     10        9    254   \n",
      "Antonio Palumbo          Ternana      Serie-B   25      4        8    176   \n",
      "Leonardo Fernández        Toluca       LigaMX   23      8        9    142   \n",
      "Juan Brunetta             Santos       LigaMX   25      9        7    209   \n",
      "Marcel Hartel          St. Pauli  Bundesliga2   26      5        7    201   \n",
      "Julian Justvan      Paderborn 07  Bundesliga2   24      5        6    171   \n",
      "Charly Rodríguez       Cruz Azul       LigaMX   25      2        6    190   \n",
      "Jean Meneses              Toluca       LigaMX   29      8        7    135   \n",
      "\n",
      "                    SoT  G/Sh  SCA  PassesPA   KP  Creation Rank  Scoring Rank  \n",
      "Name                                                                            \n",
      "Marvin Wanitzek      35  0.07  188        77  101            5.5         244.5  \n",
      "Leart Paqarada       20  0.03  150        81   83           10.0         401.0  \n",
      "Diego Valdés         29  0.11  141        55   63           13.5         403.0  \n",
      "Antonio Palumbo      12  0.10  143        51   70           25.5         466.0  \n",
      "Leonardo Fernández   26  0.07  146        48   78           29.5         638.0  \n",
      "Juan Brunetta        41  0.07  159        36   69           34.0         608.0  \n",
      "Marcel Hartel        19  0.08  164        43   90           38.0         296.5  \n",
      "Julian Justvan       23  0.07  157        60   81           40.5         300.0  \n",
      "Charly Rodríguez      5  0.11  119        44   59           43.0        1105.5  \n",
      "Jean Meneses         27  0.10  126        65   56           52.0         496.5  \n",
      "Best Finishers\n",
      "                             Team       League  Age  Goals  Assists  ProgP  \\\n",
      "Name                                                                         \n",
      "Tim Kleindienst        Heidenheim  Bundesliga2   26     25        7     93   \n",
      "Cedric Teuchert       Hannover 96  Bundesliga2   25     14        3     32   \n",
      "Samuele Mulattieri      Frosinone      Serie-B   21     12        4     20   \n",
      "Robert Leipertz      Paderborn 07  Bundesliga2   29     11        1     46   \n",
      "Robert Glatzel       Hamburger SV  Bundesliga2   28     19        3     77   \n",
      "Steven Skrzybski    Holstein Kiel  Bundesliga2   29     15        4    102   \n",
      "Prince Osei Owusu     Jahn R'burg  Bundesliga2   25      9        1     17   \n",
      "Mikkel Kaufmann        Karlsruher  Bundesliga2   21     10        6     31   \n",
      "Joel Pohjanpalo           Venezia      Serie-B   27     19        7     52   \n",
      "Marvin Pieringer     Paderborn 07  Bundesliga2   22     10        8     35   \n",
      "\n",
      "                    SoT  G/Sh  SCA  PassesPA  KP  Creation Rank  Scoring Rank  \n",
      "Name                                                                           \n",
      "Tim Kleindienst      49  0.22   93        21  38          185.5          34.5  \n",
      "Cedric Teuchert      22  0.26   38        11  13          686.5          43.0  \n",
      "Samuele Mulattieri   22  0.29   42         5  19         1230.0          54.5  \n",
      "Robert Leipertz      22  0.21   54        13  25          617.5          75.5  \n",
      "Robert Glatzel       52  0.16   90        23  30          294.0          77.0  \n",
      "Steven Skrzybski     29  0.17  101        29  37          172.0          78.0  \n",
      "Prince Osei Owusu    23  0.20   42         9  19          864.0          91.5  \n",
      "Mikkel Kaufmann      21  0.20   56        13  30          469.0          91.5  \n",
      "Joel Pohjanpalo      32  0.18   67        17  38          456.0          96.0  \n",
      "Marvin Pieringer     23  0.17   51        12  27          467.0         103.0  \n"
     ]
    }
   ],
   "source": [
    "current_season = False\n",
    "if current_season:\n",
    "    transfer_targets = pd.read_csv(\"Datasets/Transfer Target Stats.csv\", index_col=0)\n",
    "else:\n",
    "    transfer_targets = pd.read_csv(\"Datasets/Transfer Target Stats 22-23.csv\", index_col=0)\n",
    "# remove championship from analysis as wage structure too disimilar\n",
    "transfer_targets = transfer_targets[transfer_targets[\"League\"] != \"Championship\"]\n",
    "transfer_targets = transfer_targets[transfer_targets[\"Age\"] < 30]\n",
    "creative_rank = transfer_targets.sort_values(\"Creation Rank\")\n",
    "scoring_rank = transfer_targets.sort_values(\"Scoring Rank\")\n",
    "print(\"Best Creative Players\")\n",
    "print(creative_rank.iloc[:10])\n",
    "print(\"Best Finishers\")\n",
    "print(scoring_rank.iloc[:10])"
   ],
   "metadata": {
    "collapsed": false,
    "ExecuteTime": {
     "end_time": "2024-01-10T17:45:51.949193500Z",
     "start_time": "2024-01-10T17:45:51.898220100Z"
    }
   }
  }
 ],
 "metadata": {
  "kernelspec": {
   "display_name": "Python 3",
   "language": "python",
   "name": "python3"
  },
  "language_info": {
   "codemirror_mode": {
    "name": "ipython",
    "version": 2
   },
   "file_extension": ".py",
   "mimetype": "text/x-python",
   "name": "python",
   "nbconvert_exporter": "python",
   "pygments_lexer": "ipython2",
   "version": "2.7.6"
  }
 },
 "nbformat": 4,
 "nbformat_minor": 0
}
